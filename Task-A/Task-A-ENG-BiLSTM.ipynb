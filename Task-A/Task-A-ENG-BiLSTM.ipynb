{
 "cells": [
  {
   "cell_type": "code",
   "execution_count": 1,
   "id": "0a11d84e",
   "metadata": {},
   "outputs": [],
   "source": [
    "import pandas as pd\n",
    "import matplotlib.pyplot as plt\n",
    "from keras.preprocessing.text import Tokenizer\n",
    "from keras.preprocessing.sequence import pad_sequences\n",
    "from sklearn.model_selection import train_test_split\n",
    "from tensorflow.keras.utils import plot_model\n",
    "import contractions as cont_lib\n",
    "from tqdm import tqdm\n",
    "import re\n",
    "import numpy as np\n",
    "import pandas as pd\n",
    "import seaborn as sns\n",
    "import tensorflow as tf\n",
    "import itertools\n",
    "from sklearn.metrics import classification_report, confusion_matrix\n",
    "from keras.preprocessing.text import Tokenizer\n",
    "from keras.preprocessing.sequence import pad_sequences\n",
    "from keras.models import Sequential\n",
    "from keras import layers\n",
    "from keras import backend as K\n",
    "from keras.utils.vis_utils import plot_model"
   ]
  },
  {
   "cell_type": "code",
   "execution_count": 2,
   "id": "d1c22712",
   "metadata": {
    "scrolled": true
   },
   "outputs": [
    {
     "data": {
      "text/html": [
       "<div>\n",
       "<style scoped>\n",
       "    .dataframe tbody tr th:only-of-type {\n",
       "        vertical-align: middle;\n",
       "    }\n",
       "\n",
       "    .dataframe tbody tr th {\n",
       "        vertical-align: top;\n",
       "    }\n",
       "\n",
       "    .dataframe thead th {\n",
       "        text-align: right;\n",
       "    }\n",
       "</style>\n",
       "<table border=\"1\" class=\"dataframe\">\n",
       "  <thead>\n",
       "    <tr style=\"text-align: right;\">\n",
       "      <th></th>\n",
       "      <th>ID</th>\n",
       "      <th>emotion</th>\n",
       "      <th>text</th>\n",
       "    </tr>\n",
       "  </thead>\n",
       "  <tbody>\n",
       "    <tr>\n",
       "      <th>0</th>\n",
       "      <td>264183816548130816</td>\n",
       "      <td>positive</td>\n",
       "      <td>Gas by my house hit $3.39!!!! I\\u2019m going t...</td>\n",
       "    </tr>\n",
       "    <tr>\n",
       "      <th>1</th>\n",
       "      <td>263405084770172928</td>\n",
       "      <td>negative</td>\n",
       "      <td>Theo Walcott is still shit\\u002c watch Rafa an...</td>\n",
       "    </tr>\n",
       "    <tr>\n",
       "      <th>2</th>\n",
       "      <td>262163168678248449</td>\n",
       "      <td>negative</td>\n",
       "      <td>its not that I\\u2019m a GSP fan\\u002c i just h...</td>\n",
       "    </tr>\n",
       "    <tr>\n",
       "      <th>3</th>\n",
       "      <td>264249301910310912</td>\n",
       "      <td>negative</td>\n",
       "      <td>Iranian general says Israel\\u2019s Iron Dome c...</td>\n",
       "    </tr>\n",
       "    <tr>\n",
       "      <th>4</th>\n",
       "      <td>262682041215234048</td>\n",
       "      <td>neutral</td>\n",
       "      <td>Tehran\\u002c Mon Amour: Obama Tried to Establi...</td>\n",
       "    </tr>\n",
       "    <tr>\n",
       "      <th>...</th>\n",
       "      <td>...</td>\n",
       "      <td>...</td>\n",
       "      <td>...</td>\n",
       "    </tr>\n",
       "    <tr>\n",
       "      <th>9679</th>\n",
       "      <td>103158179306807296</td>\n",
       "      <td>positive</td>\n",
       "      <td>RT @MNFootNg It's monday and Monday Night Foot...</td>\n",
       "    </tr>\n",
       "    <tr>\n",
       "      <th>9680</th>\n",
       "      <td>103157324096618497</td>\n",
       "      <td>positive</td>\n",
       "      <td>All I know is the road for that Lomardi start ...</td>\n",
       "    </tr>\n",
       "    <tr>\n",
       "      <th>9681</th>\n",
       "      <td>100259220338905089</td>\n",
       "      <td>neutral</td>\n",
       "      <td>All Blue and White fam, we r meeting at Golden...</td>\n",
       "    </tr>\n",
       "    <tr>\n",
       "      <th>9682</th>\n",
       "      <td>104230318525001729</td>\n",
       "      <td>positive</td>\n",
       "      <td>@DariusButler28   Have a great game agaist Tam...</td>\n",
       "    </tr>\n",
       "    <tr>\n",
       "      <th>9683</th>\n",
       "      <td>100461938533863424</td>\n",
       "      <td>negative</td>\n",
       "      <td>I'm pisseeedddd that I missed Kid Cudi's show ...</td>\n",
       "    </tr>\n",
       "  </tbody>\n",
       "</table>\n",
       "<p>9684 rows × 3 columns</p>\n",
       "</div>"
      ],
      "text/plain": [
       "                      ID   emotion  \\\n",
       "0     264183816548130816  positive   \n",
       "1     263405084770172928  negative   \n",
       "2     262163168678248449  negative   \n",
       "3     264249301910310912  negative   \n",
       "4     262682041215234048   neutral   \n",
       "...                  ...       ...   \n",
       "9679  103158179306807296  positive   \n",
       "9680  103157324096618497  positive   \n",
       "9681  100259220338905089   neutral   \n",
       "9682  104230318525001729  positive   \n",
       "9683  100461938533863424  negative   \n",
       "\n",
       "                                                   text  \n",
       "0     Gas by my house hit $3.39!!!! I\\u2019m going t...  \n",
       "1     Theo Walcott is still shit\\u002c watch Rafa an...  \n",
       "2     its not that I\\u2019m a GSP fan\\u002c i just h...  \n",
       "3     Iranian general says Israel\\u2019s Iron Dome c...  \n",
       "4     Tehran\\u002c Mon Amour: Obama Tried to Establi...  \n",
       "...                                                 ...  \n",
       "9679  RT @MNFootNg It's monday and Monday Night Foot...  \n",
       "9680  All I know is the road for that Lomardi start ...  \n",
       "9681  All Blue and White fam, we r meeting at Golden...  \n",
       "9682  @DariusButler28   Have a great game agaist Tam...  \n",
       "9683  I'm pisseeedddd that I missed Kid Cudi's show ...  \n",
       "\n",
       "[9684 rows x 3 columns]"
      ]
     },
     "execution_count": 2,
     "metadata": {},
     "output_type": "execute_result"
    }
   ],
   "source": [
    "df = pd.read_csv('twitter-2013train-A.txt',sep=\"\\t\",names=['ID','emotion','text'])\n",
    "df"
   ]
  },
  {
   "cell_type": "markdown",
   "id": "60cfeb43",
   "metadata": {},
   "source": [
    "# Data Preprocessing"
   ]
  },
  {
   "cell_type": "code",
   "execution_count": 3,
   "id": "b21f0897",
   "metadata": {},
   "outputs": [],
   "source": [
    "#Cleaning the tweets\n",
    "def decontracted(phrase):\n",
    "    # specific\n",
    "    phrase = re.sub(r\"won't\", \"will not\", phrase)\n",
    "    phrase = re.sub(r\"can\\'t\", \"can not\", phrase)\n",
    "\n",
    "    # general\n",
    "    phrase = re.sub(r\"n\\'t\", \" not\", phrase)\n",
    "    phrase = re.sub(r\"\\'re\", \" are\", phrase)\n",
    "    phrase = re.sub(r\"\\'s\", \" is\", phrase)\n",
    "    phrase = re.sub(r\"\\'d\", \" would\", phrase)\n",
    "    phrase = re.sub(r\"\\'ll\", \" will\", phrase)\n",
    "    phrase = re.sub(r\"\\'t\", \" not\", phrase)\n",
    "    phrase = re.sub(r\"\\'ve\", \" have\", phrase)\n",
    "    phrase = re.sub(r\"\\'m\", \" am\", phrase)\n",
    "    return phrase\n",
    "\n",
    "def clean(text):\n",
    "    text = str(text)\n",
    "    text = text.lower()\n",
    "    text = re.sub(r'http\\S+', ' ', text)\n",
    "    text = re.sub(r'pic.twitter\\S+', ' ', text)\n",
    "    text = decontracted(text)\n",
    "    text = re.sub(r'\\(([^)]+)\\)', \" \", text)\n",
    "    text = re.sub('@[\\w]+','',text)\n",
    "    text = re.sub(r'[^a-zA-Z ]+', ' ', text)\n",
    "    text = re.sub(r' \\w{1,2}_', ' ', text)\n",
    "    text = re.sub('\\s+',' ', text)\n",
    "    return text"
   ]
  },
  {
   "cell_type": "code",
   "execution_count": 4,
   "id": "844b45bc",
   "metadata": {},
   "outputs": [
    {
     "name": "stderr",
     "output_type": "stream",
     "text": [
      "9684it [00:00, 32819.71it/s]\n"
     ]
    }
   ],
   "source": [
    "for i in tqdm(df.itertuples()):\n",
    "    df.at[i[0], 'tweet'] = clean(i[3])"
   ]
  },
  {
   "cell_type": "code",
   "execution_count": 5,
   "id": "3655ee7f",
   "metadata": {},
   "outputs": [],
   "source": [
    "df.loc[:,'sentiment'] = df.emotion.map({'negative':0,'neutral':1,'positive':2})"
   ]
  },
  {
   "cell_type": "code",
   "execution_count": 6,
   "id": "acc4d063",
   "metadata": {
    "scrolled": false
   },
   "outputs": [
    {
     "data": {
      "text/html": [
       "<div>\n",
       "<style scoped>\n",
       "    .dataframe tbody tr th:only-of-type {\n",
       "        vertical-align: middle;\n",
       "    }\n",
       "\n",
       "    .dataframe tbody tr th {\n",
       "        vertical-align: top;\n",
       "    }\n",
       "\n",
       "    .dataframe thead th {\n",
       "        text-align: right;\n",
       "    }\n",
       "</style>\n",
       "<table border=\"1\" class=\"dataframe\">\n",
       "  <thead>\n",
       "    <tr style=\"text-align: right;\">\n",
       "      <th></th>\n",
       "      <th>ID</th>\n",
       "      <th>emotion</th>\n",
       "      <th>text</th>\n",
       "      <th>tweet</th>\n",
       "      <th>sentiment</th>\n",
       "    </tr>\n",
       "  </thead>\n",
       "  <tbody>\n",
       "    <tr>\n",
       "      <th>0</th>\n",
       "      <td>264183816548130816</td>\n",
       "      <td>positive</td>\n",
       "      <td>Gas by my house hit $3.39!!!! I\\u2019m going t...</td>\n",
       "      <td>gas by my house hit i u m going to chapel hill...</td>\n",
       "      <td>2</td>\n",
       "    </tr>\n",
       "    <tr>\n",
       "      <th>1</th>\n",
       "      <td>263405084770172928</td>\n",
       "      <td>negative</td>\n",
       "      <td>Theo Walcott is still shit\\u002c watch Rafa an...</td>\n",
       "      <td>theo walcott is still shit u c watch rafa and ...</td>\n",
       "      <td>0</td>\n",
       "    </tr>\n",
       "    <tr>\n",
       "      <th>2</th>\n",
       "      <td>262163168678248449</td>\n",
       "      <td>negative</td>\n",
       "      <td>its not that I\\u2019m a GSP fan\\u002c i just h...</td>\n",
       "      <td>its not that i u m a gsp fan u c i just hate n...</td>\n",
       "      <td>0</td>\n",
       "    </tr>\n",
       "    <tr>\n",
       "      <th>3</th>\n",
       "      <td>264249301910310912</td>\n",
       "      <td>negative</td>\n",
       "      <td>Iranian general says Israel\\u2019s Iron Dome c...</td>\n",
       "      <td>iranian general says israel u s iron dome can ...</td>\n",
       "      <td>0</td>\n",
       "    </tr>\n",
       "    <tr>\n",
       "      <th>4</th>\n",
       "      <td>262682041215234048</td>\n",
       "      <td>neutral</td>\n",
       "      <td>Tehran\\u002c Mon Amour: Obama Tried to Establi...</td>\n",
       "      <td>tehran u c mon amour obama tried to establish ...</td>\n",
       "      <td>1</td>\n",
       "    </tr>\n",
       "    <tr>\n",
       "      <th>...</th>\n",
       "      <td>...</td>\n",
       "      <td>...</td>\n",
       "      <td>...</td>\n",
       "      <td>...</td>\n",
       "      <td>...</td>\n",
       "    </tr>\n",
       "    <tr>\n",
       "      <th>9679</th>\n",
       "      <td>103158179306807296</td>\n",
       "      <td>positive</td>\n",
       "      <td>RT @MNFootNg It's monday and Monday Night Foot...</td>\n",
       "      <td>rt it is monday and monday night football is o...</td>\n",
       "      <td>2</td>\n",
       "    </tr>\n",
       "    <tr>\n",
       "      <th>9680</th>\n",
       "      <td>103157324096618497</td>\n",
       "      <td>positive</td>\n",
       "      <td>All I know is the road for that Lomardi start ...</td>\n",
       "      <td>all i know is the road for that lomardi start ...</td>\n",
       "      <td>2</td>\n",
       "    </tr>\n",
       "    <tr>\n",
       "      <th>9681</th>\n",
       "      <td>100259220338905089</td>\n",
       "      <td>neutral</td>\n",
       "      <td>All Blue and White fam, we r meeting at Golden...</td>\n",
       "      <td>all blue and white fam we r meeting at golden ...</td>\n",
       "      <td>1</td>\n",
       "    </tr>\n",
       "    <tr>\n",
       "      <th>9682</th>\n",
       "      <td>104230318525001729</td>\n",
       "      <td>positive</td>\n",
       "      <td>@DariusButler28   Have a great game agaist Tam...</td>\n",
       "      <td>have a great game agaist tampa bay tonight</td>\n",
       "      <td>2</td>\n",
       "    </tr>\n",
       "    <tr>\n",
       "      <th>9683</th>\n",
       "      <td>100461938533863424</td>\n",
       "      <td>negative</td>\n",
       "      <td>I'm pisseeedddd that I missed Kid Cudi's show ...</td>\n",
       "      <td>i am pisseeedddd that i missed kid cudi is sho...</td>\n",
       "      <td>0</td>\n",
       "    </tr>\n",
       "  </tbody>\n",
       "</table>\n",
       "<p>9684 rows × 5 columns</p>\n",
       "</div>"
      ],
      "text/plain": [
       "                      ID   emotion  \\\n",
       "0     264183816548130816  positive   \n",
       "1     263405084770172928  negative   \n",
       "2     262163168678248449  negative   \n",
       "3     264249301910310912  negative   \n",
       "4     262682041215234048   neutral   \n",
       "...                  ...       ...   \n",
       "9679  103158179306807296  positive   \n",
       "9680  103157324096618497  positive   \n",
       "9681  100259220338905089   neutral   \n",
       "9682  104230318525001729  positive   \n",
       "9683  100461938533863424  negative   \n",
       "\n",
       "                                                   text  \\\n",
       "0     Gas by my house hit $3.39!!!! I\\u2019m going t...   \n",
       "1     Theo Walcott is still shit\\u002c watch Rafa an...   \n",
       "2     its not that I\\u2019m a GSP fan\\u002c i just h...   \n",
       "3     Iranian general says Israel\\u2019s Iron Dome c...   \n",
       "4     Tehran\\u002c Mon Amour: Obama Tried to Establi...   \n",
       "...                                                 ...   \n",
       "9679  RT @MNFootNg It's monday and Monday Night Foot...   \n",
       "9680  All I know is the road for that Lomardi start ...   \n",
       "9681  All Blue and White fam, we r meeting at Golden...   \n",
       "9682  @DariusButler28   Have a great game agaist Tam...   \n",
       "9683  I'm pisseeedddd that I missed Kid Cudi's show ...   \n",
       "\n",
       "                                                  tweet  sentiment  \n",
       "0     gas by my house hit i u m going to chapel hill...          2  \n",
       "1     theo walcott is still shit u c watch rafa and ...          0  \n",
       "2     its not that i u m a gsp fan u c i just hate n...          0  \n",
       "3     iranian general says israel u s iron dome can ...          0  \n",
       "4     tehran u c mon amour obama tried to establish ...          1  \n",
       "...                                                 ...        ...  \n",
       "9679  rt it is monday and monday night football is o...          2  \n",
       "9680  all i know is the road for that lomardi start ...          2  \n",
       "9681  all blue and white fam we r meeting at golden ...          1  \n",
       "9682        have a great game agaist tampa bay tonight           2  \n",
       "9683  i am pisseeedddd that i missed kid cudi is sho...          0  \n",
       "\n",
       "[9684 rows x 5 columns]"
      ]
     },
     "execution_count": 6,
     "metadata": {},
     "output_type": "execute_result"
    }
   ],
   "source": [
    "df"
   ]
  },
  {
   "cell_type": "code",
   "execution_count": 7,
   "id": "132a22bd",
   "metadata": {},
   "outputs": [],
   "source": [
    "data = df[['tweet','sentiment']].copy()"
   ]
  },
  {
   "cell_type": "code",
   "execution_count": 8,
   "id": "a1ca2196",
   "metadata": {},
   "outputs": [],
   "source": [
    "EPOCH = 10\n",
    "\n",
    "split_val = int(0.2 * data.shape[0])\n",
    "\n",
    "dataTest = data.iloc[-split_val :]\n",
    "dataVal = data.iloc[- 2 * split_val : -split_val]\n",
    "dataTrain = data.iloc[: - 2 * split_val]"
   ]
  },
  {
   "cell_type": "code",
   "execution_count": 9,
   "id": "df81f1d1",
   "metadata": {},
   "outputs": [],
   "source": [
    "trainX = np.array(dataTrain.iloc[:, 0])\n",
    "trainY = np.array(dataTrain.iloc[:, 1])\n",
    "\n",
    "valX = np.array(dataVal.iloc[:, 0])\n",
    "valY = np.array(dataVal.iloc[:, 1])\n",
    "\n",
    "testX = np.array(dataTest.iloc[:, 0])\n",
    "testY = np.array(dataTest.iloc[:, 1])"
   ]
  },
  {
   "cell_type": "code",
   "execution_count": 10,
   "id": "ae974d2d",
   "metadata": {},
   "outputs": [],
   "source": [
    "top_k = 50000\n",
    "tokenizer = tf.keras.preprocessing.text.Tokenizer(num_words = top_k,\n",
    "                                                  oov_token = \"<unk>\",\n",
    "                                                  filters = '!\"#$%&()*+.,-/:;=?@[\\]^_`{|}~')\n",
    "tokenizer.fit_on_texts(trainX)\n",
    "\n",
    "tokenizer.word_index['<pad>'] = 0\n",
    "tokenizer.index_word[0] = '<pad>'\n",
    "\n",
    "train_seqs = tokenizer.texts_to_sequences(trainX)\n",
    "val_seqs = tokenizer.texts_to_sequences(valX)\n",
    "test_seqs = tokenizer.texts_to_sequences(testX)\n",
    "\n",
    "train_seqs = tf.keras.preprocessing.sequence.pad_sequences(train_seqs, padding = 'pre')\n",
    "val_seqs = tf.keras.preprocessing.sequence.pad_sequences(val_seqs, padding = 'pre')\n",
    "test_seqs = tf.keras.preprocessing.sequence.pad_sequences(test_seqs, padding = 'pre')"
   ]
  },
  {
   "cell_type": "markdown",
   "id": "d02c86a4",
   "metadata": {},
   "source": [
    "# Model"
   ]
  },
  {
   "cell_type": "code",
   "execution_count": 11,
   "id": "a61b441e",
   "metadata": {},
   "outputs": [
    {
     "name": "stdout",
     "output_type": "stream",
     "text": [
      "Model: \"sequential\"\n",
      "_________________________________________________________________\n",
      "Layer (type)                 Output Shape              Param #   \n",
      "=================================================================\n",
      "embedding (Embedding)        (None, None, 128)         1583488   \n",
      "_________________________________________________________________\n",
      "bidirectional (Bidirectional (None, None, 512)         788480    \n",
      "_________________________________________________________________\n",
      "bidirectional_1 (Bidirection (None, None, 1024)        4198400   \n",
      "_________________________________________________________________\n",
      "bidirectional_2 (Bidirection (None, None, 128)         557568    \n",
      "_________________________________________________________________\n",
      "bidirectional_3 (Bidirection (None, 16)                8768      \n",
      "_________________________________________________________________\n",
      "dense (Dense)                (None, 3)                 51        \n",
      "=================================================================\n",
      "Total params: 7,136,755\n",
      "Trainable params: 7,136,755\n",
      "Non-trainable params: 0\n",
      "_________________________________________________________________\n"
     ]
    },
    {
     "data": {
      "image/png": "[encoded data removed]",
      "text/plain": [
       "<IPython.core.display.Image object>"
      ]
     },
     "execution_count": 11,
     "metadata": {},
     "output_type": "execute_result"
    }
   ],
   "source": [
    "model = Sequential()\n",
    "model.add(layers.Embedding(len(tokenizer.word_index), 128))\n",
    "model.add(layers.Bidirectional(layers.LSTM(256, return_sequences = True, dropout = 0.2)))\n",
    "model.add(layers.Bidirectional(layers.LSTM(512, return_sequences = True, dropout = 0.2)))\n",
    "model.add(layers.Bidirectional(layers.LSTM(64, return_sequences = True, dropout = 0.2)))\n",
    "model.add(layers.Bidirectional(layers.LSTM(8, dropout = 0.2)))\n",
    "model.add(layers.Dense(3, activation = 'softmax'))\n",
    "\n",
    "model.compile(loss = 'sparse_categorical_crossentropy', optimizer = 'adam', metrics = ['accuracy'])\n",
    "\n",
    "model.summary()\n",
    "plot_model(model, to_file = 'BiLSTM.png', show_shapes = True, show_layer_names = True)"
   ]
  },
  {
   "cell_type": "code",
   "execution_count": 12,
   "id": "0f5e97d0",
   "metadata": {
    "scrolled": true
   },
   "outputs": [
    {
     "name": "stdout",
     "output_type": "stream",
     "text": [
      "Epoch 1/10\n",
      "182/182 [==============================] - 36s 63ms/step - loss: 0.9672 - accuracy: 0.5370 - val_loss: 0.8894 - val_accuracy: 0.5883\n",
      "Epoch 2/10\n",
      "182/182 [==============================] - 9s 49ms/step - loss: 0.6981 - accuracy: 0.7204 - val_loss: 0.8884 - val_accuracy: 0.6173\n",
      "Epoch 3/10\n",
      "182/182 [==============================] - 8s 47ms/step - loss: 0.4625 - accuracy: 0.8326 - val_loss: 1.1101 - val_accuracy: 0.5770\n",
      "Epoch 4/10\n",
      "182/182 [==============================] - 9s 47ms/step - loss: 0.3186 - accuracy: 0.8939 - val_loss: 1.2053 - val_accuracy: 0.5677\n",
      "Epoch 5/10\n",
      "182/182 [==============================] - 8s 46ms/step - loss: 0.2144 - accuracy: 0.9383 - val_loss: 1.2478 - val_accuracy: 0.5671\n",
      "Epoch 6/10\n",
      "182/182 [==============================] - 8s 46ms/step - loss: 0.1493 - accuracy: 0.9540 - val_loss: 1.4704 - val_accuracy: 0.5914\n",
      "Epoch 7/10\n",
      "182/182 [==============================] - 8s 46ms/step - loss: 0.1176 - accuracy: 0.9704 - val_loss: 1.4580 - val_accuracy: 0.5878\n",
      "Epoch 8/10\n",
      "182/182 [==============================] - 8s 46ms/step - loss: 0.0812 - accuracy: 0.9798 - val_loss: 1.5994 - val_accuracy: 0.5811\n",
      "Epoch 9/10\n",
      "182/182 [==============================] - 9s 47ms/step - loss: 0.0840 - accuracy: 0.9768 - val_loss: 1.8068 - val_accuracy: 0.5770\n",
      "Epoch 10/10\n",
      "182/182 [==============================] - 8s 47ms/step - loss: 0.0903 - accuracy: 0.9742 - val_loss: 1.7343 - val_accuracy: 0.5563\n"
     ]
    }
   ],
   "source": [
    "history = model.fit(train_seqs, trainY, epochs = EPOCH, validation_data = (val_seqs, valY), verbose = 1)"
   ]
  },
  {
   "cell_type": "markdown",
   "id": "49c5cf9f",
   "metadata": {},
   "source": [
    "# Accuracy and Loss"
   ]
  },
  {
   "cell_type": "code",
   "execution_count": 13,
   "id": "2e72dd67",
   "metadata": {},
   "outputs": [
    {
     "data": {
      "image/png": "[encoded data removed]",
      "text/plain": [
       "<Figure size 432x288 with 1 Axes>"
      ]
     },
     "metadata": {
      "needs_background": "light"
     },
     "output_type": "display_data"
    }
   ],
   "source": [
    "import matplotlib.pyplot as plt\n",
    "\n",
    "plt.plot(history.history['accuracy'])\n",
    "plt.plot(history.history['val_accuracy'])\n",
    "plt.title('BiLSTM Accuracy')\n",
    "plt.ylabel('Accuracy')\n",
    "plt.xlabel('Epoch')\n",
    "plt.legend(['Train', 'Validation'], loc='upper left')\n",
    "plt.show()"
   ]
  },
  {
   "cell_type": "code",
   "execution_count": 14,
   "id": "8590e0a2",
   "metadata": {},
   "outputs": [
    {
     "data": {
      "image/png": "[encoded data removed]",
      "text/plain": [
       "<Figure size 432x288 with 1 Axes>"
      ]
     },
     "metadata": {
      "needs_background": "light"
     },
     "output_type": "display_data"
    }
   ],
   "source": [
    "plt.plot(history.history['loss'])\n",
    "plt.plot(history.history['val_loss'])\n",
    "plt.title('BiLSTM Loss')\n",
    "plt.ylabel('loss')\n",
    "plt.xlabel('epoch')\n",
    "plt.legend(['train', 'validation'], loc='upper left')\n",
    "plt.show()"
   ]
  },
  {
   "cell_type": "code",
   "execution_count": 15,
   "id": "2f0f1cbd",
   "metadata": {},
   "outputs": [],
   "source": [
    "y_pred = model.predict(test_seqs)"
   ]
  },
  {
   "cell_type": "code",
   "execution_count": 18,
   "id": "3ad20cb4",
   "metadata": {},
   "outputs": [],
   "source": [
    "y_pred_1d = y_pred.argmax(axis=1)\n",
    "y_test_1d = testY"
   ]
  },
  {
   "cell_type": "code",
   "execution_count": 19,
   "id": "7e16b831",
   "metadata": {},
   "outputs": [
    {
     "name": "stdout",
     "output_type": "stream",
     "text": [
      "              precision    recall  f1-score   support\n",
      "\n",
      "           0       0.38      0.42      0.40       321\n",
      "           1       0.54      0.66      0.60       783\n",
      "           2       0.69      0.53      0.60       832\n",
      "\n",
      "    accuracy                           0.56      1936\n",
      "   macro avg       0.54      0.53      0.53      1936\n",
      "weighted avg       0.58      0.56      0.56      1936\n",
      "\n"
     ]
    }
   ],
   "source": [
    "print(classification_report(y_test_1d, y_pred_1d))"
   ]
  },
  {
   "cell_type": "code",
   "execution_count": 20,
   "id": "92a3cd7c",
   "metadata": {},
   "outputs": [
    {
     "name": "stdout",
     "output_type": "stream",
     "text": [
      "accuracy：0.5619834710743802\n",
      "precision：0.5619834710743802\n",
      "recall：0.5619834710743802\n",
      "F1-score：0.5619834710743802\n"
     ]
    }
   ],
   "source": [
    "from sklearn.metrics import accuracy_score, precision_score, recall_score, f1_score\n",
    "print(f\"accuracy：{accuracy_score(y_test_1d, y_pred_1d)}\")\n",
    "print(f\"precision：{precision_score(y_test_1d, y_pred_1d, average='micro')}\")\n",
    "print(f\"recall：{recall_score(y_test_1d, y_pred_1d, average='micro')}\")\n",
    "print(f\"F1-score：{f1_score(y_test_1d, y_pred_1d, average='micro')}\")"
   ]
  },
  {
   "cell_type": "code",
   "execution_count": 25,
   "id": "408fb45f",
   "metadata": {},
   "outputs": [],
   "source": [
    "def plot_confusion_matrix(cm, classes,\n",
    "                          title='Confusion matrix',\n",
    "                          cmap=plt.cm.Blues):\n",
    "    \"\"\"\n",
    "    This function prints and plots the confusion matrix.\n",
    "    Normalization can be applied by setting `normalize=True`.\n",
    "    \"\"\"\n",
    "\n",
    "    cm = cm.astype('float') / cm.sum(axis=1)[:, np.newaxis]\n",
    "\n",
    "    plt.imshow(cm, interpolation='nearest', cmap=cmap)\n",
    "    plt.title(title, fontsize=30)\n",
    "    plt.colorbar()\n",
    "    tick_marks = np.arange(len(classes))\n",
    "    plt.xticks(tick_marks, classes, rotation=90, fontsize=22)\n",
    "    plt.yticks(tick_marks, classes, fontsize=22)\n",
    "\n",
    "    fmt = '.2f'\n",
    "    thresh = cm.max() / 2.\n",
    "    for i, j in itertools.product(range(cm.shape[0]), range(cm.shape[1])):\n",
    "        plt.text(j, i, format(cm[i, j], fmt),\n",
    "                 horizontalalignment=\"center\",\n",
    "                 color=\"white\" if cm[i, j] > thresh else \"black\")\n",
    "\n",
    "    plt.ylabel('True label', fontsize=25)\n",
    "    plt.xlabel('Predicted label', fontsize=25)"
   ]
  },
  {
   "cell_type": "code",
   "execution_count": null,
   "id": "d16ed42c",
   "metadata": {},
   "outputs": [],
   "source": [
    "dataTrain['sentiment'] = dataTrain.sentiment.map({0:'negative',1:'neutral',2:'positive'})"
   ]
  },
  {
   "cell_type": "code",
   "execution_count": 31,
   "id": "3aad47c4",
   "metadata": {},
   "outputs": [
    {
     "data": {
      "image/png": "[encoded data removed]",
      "text/plain": [
       "<Figure size 576x576 with 2 Axes>"
      ]
     },
     "metadata": {
      "needs_background": "light"
     },
     "output_type": "display_data"
    }
   ],
   "source": [
    "cnf_matrix = confusion_matrix(y_test_1d, y_pred_1d)\n",
    "plt.figure(figsize=(8,8))\n",
    "plot_confusion_matrix(cnf_matrix, classes=dataTrain.sentiment.unique(), title=\"Confusion matrix\")\n",
    "plt.show()"
   ]
  },
  {
   "cell_type": "code",
   "execution_count": null,
   "id": "de8430f7",
   "metadata": {},
   "outputs": [],
   "source": []
  }
 ],
 "metadata": {
  "kernelspec": {
   "display_name": "Python 3 (ipykernel)",
   "language": "python",
   "name": "python3"
  },
  "language_info": {
   "codemirror_mode": {
    "name": "ipython",
    "version": 3
   },
   "file_extension": ".py",
   "mimetype": "text/x-python",
   "name": "python",
   "nbconvert_exporter": "python",
   "pygments_lexer": "ipython3",
   "version": "3.8.11"
  },
  "latex_envs": {
   "LaTeX_envs_menu_present": true,
   "autoclose": false,
   "autocomplete": true,
   "bibliofile": "biblio.bib",
   "cite_by": "apalike",
   "current_citInitial": 1,
   "eqLabelWithNumbers": true,
   "eqNumInitial": 1,
   "hotkeys": {
    "equation": "Ctrl-E",
    "itemize": "Ctrl-I"
   },
   "labels_anchors": false,
   "latex_user_defs": false,
   "report_style_numbering": false,
   "user_envs_cfg": false
  }
 },
 "nbformat": 4,
 "nbformat_minor": 5
}
